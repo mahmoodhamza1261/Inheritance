{
  "nbformat": 4,
  "nbformat_minor": 0,
  "metadata": {
    "colab": {
      "provenance": []
    },
    "kernelspec": {
      "name": "python3",
      "display_name": "Python 3"
    },
    "language_info": {
      "name": "python"
    }
  },
  "cells": [
    {
      "cell_type": "markdown",
      "source": [
        "Design a class Vehicle with attributes make and model, and a method describe() that prints\n",
        "&quot;This is a [make] [model].&quot; Create a subclass Car that inherits from Vehicle, adds an attribute\n",
        "number_of_doors, and overrides describe() to include the number of doors."
      ],
      "metadata": {
        "id": "q4KZYQdANg6R"
      }
    },
    {
      "cell_type": "code",
      "source": [
        "class Vehicle:\n",
        "    def __init__(self, make, model):\n",
        "        self.make = make\n",
        "        self.model = model\n",
        "\n",
        "    def describe(self):\n",
        "        print(f\"This is a {self.make} {self.model}.\")\n",
        "class Car(Vehicle):\n",
        "    def __init__(self, make, model, number_of_doors):\n",
        "        super().__init__(make, model)\n",
        "        self.number_of_doors = number_of_doors\n",
        "\n",
        "    def describe(self):\n",
        "        super().describe()\n",
        "        print(f\"It has {self.number_of_doors} doors.\")\n",
        "car = Car(\"Toyota\", \"Camry\", 4)\n",
        "car.describe()"
      ],
      "metadata": {
        "colab": {
          "base_uri": "https://localhost:8080/"
        },
        "id": "_llOsSTaNtv3",
        "outputId": "83d4679e-61ca-4507-c6e1-1aa3def177b8"
      },
      "execution_count": 11,
      "outputs": [
        {
          "output_type": "stream",
          "name": "stdout",
          "text": [
            "This is a Toyota Camry.\n",
            "It has 4 doors.\n"
          ]
        }
      ]
    },
    {
      "cell_type": "markdown",
      "source": [
        "Create two classes: Artist with a method create_art() and Musician with a method\n",
        "play_music(). Then, create a class PerformingArtist that inherits from both Artist and\n",
        "Musician. Implement a method perform() in PerformingArtist that calls both create_art()\n",
        "and play_music()."
      ],
      "metadata": {
        "id": "coaIxcJeOSs8"
      }
    },
    {
      "cell_type": "code",
      "source": [
        "class Artist:\n",
        "    def create_art(self):\n",
        "        print(\"This artist creates art.\")\n",
        "\n",
        "class Musician:\n",
        "    def play_music(self):\n",
        "        print(\"This musician plays music.\")\n",
        "class Parent(Artist,Musician):\n",
        "    def perform(self):\n",
        "        self.create_art()\n",
        "        self.play_music()\n",
        "parent=Parent()\n",
        "parent.perform()"
      ],
      "metadata": {
        "colab": {
          "base_uri": "https://localhost:8080/"
        },
        "id": "7OckXZTJOVMc",
        "outputId": "273e0eb7-7bfd-45ca-a548-eb346d0a97d8"
      },
      "execution_count": 12,
      "outputs": [
        {
          "output_type": "stream",
          "name": "stdout",
          "text": [
            "This artist creates art.\n",
            "This musician plays music.\n"
          ]
        }
      ]
    },
    {
      "cell_type": "markdown",
      "source": [
        "Implement a class hierarchy where Grandparent has an attribute family_name. Create a\n",
        "subclass Parent that inherits from Grandparent and adds an attribute occupation. Then, create\n",
        "a subclass Child that inherits from Parent and adds an attribute age. Implement methods in\n",
        "each class to display the respective attributes."
      ],
      "metadata": {
        "id": "3rZJHATIOxnJ"
      }
    },
    {
      "cell_type": "code",
      "source": [
        "class GrandParent:\n",
        "    def __init__(self, family_name):\n",
        "        self.family_name = family_name\n",
        "\n",
        "    def display_attributes(self):\n",
        "        print(f\"Family Name: {self.family_name}\")\n",
        "\n",
        "class Parent(GrandParent):\n",
        "    def __init__(self, grandparent, occupation):\n",
        "        super().__init__(grandparent.family_name)\n",
        "        self.occupation = occupation\n",
        "\n",
        "    def display_attributes(self):\n",
        "        super().display_attributes()\n",
        "        print(f\"Occupation: {self.occupation}\")\n",
        "\n",
        "class Child(Parent):\n",
        "    def __init__(self, parent, age):\n",
        "        super().__init__(parent, parent.occupation)\n",
        "        self.age = age\n",
        "\n",
        "    def display_attributes(self):\n",
        "        super().display_attributes()\n",
        "        print(f\"Age: {self.age}\")\n",
        "\n",
        "# Creating instances with correct parameters\n",
        "GP = GrandParent(\"Awan\")\n",
        "GP.display_attributes()\n",
        "\n",
        "Parent1 = Parent(GP, \"Engineer\")\n",
        "Parent1.display_attributes()\n",
        "\n",
        "Child1 = Child(Parent1, 20)\n",
        "Child1.display_attributes()\n"
      ],
      "metadata": {
        "colab": {
          "base_uri": "https://localhost:8080/"
        },
        "id": "nALo8GpAO0hJ",
        "outputId": "16df607e-3a5a-4da3-a18d-c36dc5075742"
      },
      "execution_count": 17,
      "outputs": [
        {
          "output_type": "stream",
          "name": "stdout",
          "text": [
            "Family Name: Awan\n",
            "Family Name: Awan\n",
            "Occupation: Engineer\n",
            "Family Name: Awan\n",
            "Occupation: Engineer\n",
            "Age: 20\n"
          ]
        }
      ]
    },
    {
      "cell_type": "markdown",
      "source": [
        "Design a base class Employee with attributes name and employee_id. Create two subclasses,\n",
        "Manager and Developer, both inheriting from Employee. Add specific attributes to each\n",
        "subclass (e.g., department for Manager and programming_language for Developer).\n",
        "Implement methods to display details for each subclass."
      ],
      "metadata": {
        "id": "QjNJwWORRAty"
      }
    },
    {
      "cell_type": "code",
      "source": [
        "class Employee:\n",
        "    def __init__(self, name, employee_id):\n",
        "        self.name = name\n",
        "        self.employee_id = employee_id\n",
        "\n",
        "class Manager(Employee):\n",
        "    def __init__(self, employee, department):\n",
        "        super().__init__(employee.name, employee.employee_id)\n",
        "        self.department = department\n",
        "\n",
        "class Developer(Employee):\n",
        "    def __init__(self, manager, programming_language):\n",
        "        super().__init__(manager.name, manager.employee_id)\n",
        "        self.department = manager.department\n",
        "        self.programming_language = programming_language\n",
        "\n",
        "    def display_details(self):\n",
        "        print(f\"Name: {self.name}\")\n",
        "        print(f\"Employee ID: {self.employee_id}\")\n",
        "        print(f\"Department: {self.department}\")\n",
        "        print(f\"Programming Language: {self.programming_language}\")\n",
        "\n",
        "E = Employee(\"Awan\", 123)\n",
        "M = Manager(E, \"IT\")\n",
        "D = Developer(M, \"Python\")\n",
        "D.display_details()\n"
      ],
      "metadata": {
        "colab": {
          "base_uri": "https://localhost:8080/"
        },
        "id": "IJXbci9kRD-H",
        "outputId": "76760c8f-5bb6-4b96-8624-374f39b2d5ab"
      },
      "execution_count": 25,
      "outputs": [
        {
          "output_type": "stream",
          "name": "stdout",
          "text": [
            "Name: Awan\n",
            "Employee ID: 123\n",
            "Department: IT\n",
            "Programming Language: Python\n"
          ]
        }
      ]
    },
    {
      "cell_type": "markdown",
      "source": [
        "Create a base class Person with attributes name and age. Create two subclasses, Student (with\n",
        "attributes student_id and major) and Employee (with attributes employee_id and\n",
        "department). Then, create another class GraduateStudent that inherits from both Student and\n",
        "Employee. Implement methods to display the attributes of GraduateStudent and resolve\n",
        "potential issues with multiple inheritance."
      ],
      "metadata": {
        "id": "JG4m6p_oTj1C"
      }
    },
    {
      "cell_type": "code",
      "source": [
        "class Person:\n",
        "    def __init__(self, name, age):\n",
        "        self.name = name\n",
        "        self.age = age\n",
        "\n",
        "class Student(Person):\n",
        "    def __init__(self, person, student_id, major):\n",
        "        super().__init__(person.name, person.age)\n",
        "        self.student_id = student_id\n",
        "        self.major = major\n",
        "\n",
        "class Employee(Person):\n",
        "    def __init__(self, person, employee_id, department):\n",
        "        super().__init__(person.name, person.age)\n",
        "        self.employee_id = employee_id\n",
        "        self.department = department\n",
        "\n",
        "class GraduateStudent:\n",
        "    def __init__(self, student, employee):\n",
        "        self.name = student.name\n",
        "        self.age = student.age\n",
        "        self.student_id = student.student_id\n",
        "        self.major = student.major\n",
        "        self.employee_id = employee.employee_id\n",
        "        self.department = employee.department\n",
        "\n",
        "    def display_details(self):\n",
        "        print(f\"Name: {self.name}\")\n",
        "        print(f\"Age: {self.age}\")\n",
        "        print(f\"Student ID: {self.student_id}\")\n",
        "        print(f\"Major: {self.major}\")\n",
        "        print(f\"Employee ID: {self.employee_id}\")\n",
        "        print(f\"Department: {self.department}\")\n",
        "\n",
        "# Create instances\n",
        "P = Person(\"Awan\", 20)\n",
        "S = Student(P, 123, \"IT\")\n",
        "E = Employee(P, 456, \"HR\")\n",
        "G = GraduateStudent(S, E)\n",
        "G.display_details()\n"
      ],
      "metadata": {
        "colab": {
          "base_uri": "https://localhost:8080/"
        },
        "id": "dZF5vSZtTl_g",
        "outputId": "ec293f96-74e6-4a06-fb3b-312aeb26a65e"
      },
      "execution_count": 29,
      "outputs": [
        {
          "output_type": "stream",
          "name": "stdout",
          "text": [
            "Name: Awan\n",
            "Age: 20\n",
            "Student ID: 123\n",
            "Major: IT\n",
            "Employee ID: 456\n",
            "Department: HR\n"
          ]
        }
      ]
    }
  ]
}